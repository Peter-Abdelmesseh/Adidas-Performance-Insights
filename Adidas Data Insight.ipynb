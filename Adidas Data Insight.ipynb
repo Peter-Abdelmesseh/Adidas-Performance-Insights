{
 "cells": [
  {
   "cell_type": "markdown",
   "id": "44d62bd7-6c52-4bfb-9e4b-fa1474c1c1ab",
   "metadata": {},
   "source": [
    "# These are the questions that we will address throughout the project.\n",
    "- Average of sales for every Region.\n",
    "- Average of sales for every Product.\n",
    "- What is the Top product with total sales?\n",
    "- Count of each Product.\n",
    "- Mean of sales.\n",
    "- Which sales method is used most, and for every region?\n",
    "- What about sales over years?\n",
    "- Which retailer is the most?\n",
    "- Which products have the highest operating profit margin?"
   ]
  },
  {
   "cell_type": "markdown",
   "id": "6556ed24-13d2-4365-babf-67451e7c9580",
   "metadata": {},
   "source": [
    "## Import libraries"
   ]
  },
  {
   "cell_type": "code",
   "execution_count": 9,
   "id": "d00988a7-4492-4006-aa83-4e8e56918325",
   "metadata": {},
   "outputs": [],
   "source": [
    "import pandas as pd\n",
    "import matplotlib.pyplot as plt\n",
    "import seaborn as sns"
   ]
  },
  {
   "cell_type": "markdown",
   "id": "75a6fff4-624e-430b-ad7b-c1d5f6f9a10a",
   "metadata": {},
   "source": [
    "### Read the dataset"
   ]
  },
  {
   "cell_type": "code",
   "execution_count": 11,
   "id": "3f56a511-01d7-4700-9b4a-65569eabb70e",
   "metadata": {},
   "outputs": [],
   "source": [
    "data = pd.read_csv(\"Adidas sales data for 2020 and 2021.csv\")"
   ]
  },
  {
   "cell_type": "markdown",
   "id": "12c03b8a-51ad-48fd-98af-6d1985aec7aa",
   "metadata": {},
   "source": [
    "### Data Decovering"
   ]
  },
  {
   "cell_type": "code",
   "execution_count": 13,
   "id": "24e31a0e-ddc3-4ac0-b255-9ac000382b85",
   "metadata": {},
   "outputs": [
    {
     "data": {
      "text/html": [
       "<div>\n",
       "<style scoped>\n",
       "    .dataframe tbody tr th:only-of-type {\n",
       "        vertical-align: middle;\n",
       "    }\n",
       "\n",
       "    .dataframe tbody tr th {\n",
       "        vertical-align: top;\n",
       "    }\n",
       "\n",
       "    .dataframe thead th {\n",
       "        text-align: right;\n",
       "    }\n",
       "</style>\n",
       "<table border=\"1\" class=\"dataframe\">\n",
       "  <thead>\n",
       "    <tr style=\"text-align: right;\">\n",
       "      <th></th>\n",
       "      <th>Retailer</th>\n",
       "      <th>Retailer ID</th>\n",
       "      <th>Invoice Date</th>\n",
       "      <th>Region</th>\n",
       "      <th>State</th>\n",
       "      <th>City</th>\n",
       "      <th>Product</th>\n",
       "      <th>Price per Unit</th>\n",
       "      <th>Units Sold</th>\n",
       "      <th>Total Sales</th>\n",
       "      <th>Operating Profit</th>\n",
       "      <th>Sales Method</th>\n",
       "    </tr>\n",
       "  </thead>\n",
       "  <tbody>\n",
       "    <tr>\n",
       "      <th>0</th>\n",
       "      <td>Foot Locker</td>\n",
       "      <td>1185732</td>\n",
       "      <td>1/1/2020</td>\n",
       "      <td>Northeast</td>\n",
       "      <td>New York</td>\n",
       "      <td>New York</td>\n",
       "      <td>Men's Street Footwear</td>\n",
       "      <td>$50.00</td>\n",
       "      <td>1,200</td>\n",
       "      <td>60,000</td>\n",
       "      <td>$30,000</td>\n",
       "      <td>In-store</td>\n",
       "    </tr>\n",
       "    <tr>\n",
       "      <th>1</th>\n",
       "      <td>Foot Locker</td>\n",
       "      <td>1185732</td>\n",
       "      <td>1/2/2020</td>\n",
       "      <td>Northeast</td>\n",
       "      <td>New York</td>\n",
       "      <td>New York</td>\n",
       "      <td>Men's Athletic Footwear</td>\n",
       "      <td>$50.00</td>\n",
       "      <td>1,000</td>\n",
       "      <td>50,000</td>\n",
       "      <td>$15,000</td>\n",
       "      <td>In-store</td>\n",
       "    </tr>\n",
       "    <tr>\n",
       "      <th>2</th>\n",
       "      <td>Foot Locker</td>\n",
       "      <td>1185732</td>\n",
       "      <td>1/3/2020</td>\n",
       "      <td>Northeast</td>\n",
       "      <td>New York</td>\n",
       "      <td>New York</td>\n",
       "      <td>Women's Street Footwear</td>\n",
       "      <td>$40.00</td>\n",
       "      <td>1,000</td>\n",
       "      <td>40,000</td>\n",
       "      <td>$14,000</td>\n",
       "      <td>In-store</td>\n",
       "    </tr>\n",
       "    <tr>\n",
       "      <th>3</th>\n",
       "      <td>Foot Locker</td>\n",
       "      <td>1185732</td>\n",
       "      <td>1/4/2020</td>\n",
       "      <td>Northeast</td>\n",
       "      <td>New York</td>\n",
       "      <td>New York</td>\n",
       "      <td>Women's Athletic Footwear</td>\n",
       "      <td>$45.00</td>\n",
       "      <td>850</td>\n",
       "      <td>38,250</td>\n",
       "      <td>$13,388</td>\n",
       "      <td>In-store</td>\n",
       "    </tr>\n",
       "    <tr>\n",
       "      <th>4</th>\n",
       "      <td>Foot Locker</td>\n",
       "      <td>1185732</td>\n",
       "      <td>1/5/2020</td>\n",
       "      <td>Northeast</td>\n",
       "      <td>New York</td>\n",
       "      <td>New York</td>\n",
       "      <td>Men's Apparel</td>\n",
       "      <td>$60.00</td>\n",
       "      <td>900</td>\n",
       "      <td>54,000</td>\n",
       "      <td>$16,200</td>\n",
       "      <td>In-store</td>\n",
       "    </tr>\n",
       "    <tr>\n",
       "      <th>5</th>\n",
       "      <td>Foot Locker</td>\n",
       "      <td>1185732</td>\n",
       "      <td>1/6/2020</td>\n",
       "      <td>Northeast</td>\n",
       "      <td>New York</td>\n",
       "      <td>New York</td>\n",
       "      <td>Women's Apparel</td>\n",
       "      <td>$50.00</td>\n",
       "      <td>1,000</td>\n",
       "      <td>50,000</td>\n",
       "      <td>$12,500</td>\n",
       "      <td>In-store</td>\n",
       "    </tr>\n",
       "    <tr>\n",
       "      <th>6</th>\n",
       "      <td>Foot Locker</td>\n",
       "      <td>1185732</td>\n",
       "      <td>1/7/2020</td>\n",
       "      <td>Northeast</td>\n",
       "      <td>New York</td>\n",
       "      <td>New York</td>\n",
       "      <td>Men's Street Footwear</td>\n",
       "      <td>$50.00</td>\n",
       "      <td>1,250</td>\n",
       "      <td>62,500</td>\n",
       "      <td>$31,250</td>\n",
       "      <td>In-store</td>\n",
       "    </tr>\n",
       "    <tr>\n",
       "      <th>7</th>\n",
       "      <td>Foot Locker</td>\n",
       "      <td>1185732</td>\n",
       "      <td>1/8/2020</td>\n",
       "      <td>Northeast</td>\n",
       "      <td>New York</td>\n",
       "      <td>New York</td>\n",
       "      <td>Men's Athletic Footwear</td>\n",
       "      <td>$50.00</td>\n",
       "      <td>900</td>\n",
       "      <td>45,000</td>\n",
       "      <td>$13,500</td>\n",
       "      <td>Outlet</td>\n",
       "    </tr>\n",
       "    <tr>\n",
       "      <th>8</th>\n",
       "      <td>Foot Locker</td>\n",
       "      <td>1185732</td>\n",
       "      <td>1/21/2020</td>\n",
       "      <td>Northeast</td>\n",
       "      <td>New York</td>\n",
       "      <td>New York</td>\n",
       "      <td>Women's Street Footwear</td>\n",
       "      <td>$40.00</td>\n",
       "      <td>950</td>\n",
       "      <td>38,000</td>\n",
       "      <td>$13,300</td>\n",
       "      <td>Outlet</td>\n",
       "    </tr>\n",
       "    <tr>\n",
       "      <th>9</th>\n",
       "      <td>Foot Locker</td>\n",
       "      <td>1185732</td>\n",
       "      <td>1/22/2020</td>\n",
       "      <td>Northeast</td>\n",
       "      <td>New York</td>\n",
       "      <td>New York</td>\n",
       "      <td>Women's Athletic Footwear</td>\n",
       "      <td>$45.00</td>\n",
       "      <td>825</td>\n",
       "      <td>37,125</td>\n",
       "      <td>$12,994</td>\n",
       "      <td>Outlet</td>\n",
       "    </tr>\n",
       "  </tbody>\n",
       "</table>\n",
       "</div>"
      ],
      "text/plain": [
       "      Retailer  Retailer ID Invoice Date     Region     State      City  \\\n",
       "0  Foot Locker      1185732     1/1/2020  Northeast  New York  New York   \n",
       "1  Foot Locker      1185732     1/2/2020  Northeast  New York  New York   \n",
       "2  Foot Locker      1185732     1/3/2020  Northeast  New York  New York   \n",
       "3  Foot Locker      1185732     1/4/2020  Northeast  New York  New York   \n",
       "4  Foot Locker      1185732     1/5/2020  Northeast  New York  New York   \n",
       "5  Foot Locker      1185732     1/6/2020  Northeast  New York  New York   \n",
       "6  Foot Locker      1185732     1/7/2020  Northeast  New York  New York   \n",
       "7  Foot Locker      1185732     1/8/2020  Northeast  New York  New York   \n",
       "8  Foot Locker      1185732    1/21/2020  Northeast  New York  New York   \n",
       "9  Foot Locker      1185732    1/22/2020  Northeast  New York  New York   \n",
       "\n",
       "                     Product Price per Unit Units Sold Total Sales  \\\n",
       "0      Men's Street Footwear        $50.00       1,200      60,000   \n",
       "1    Men's Athletic Footwear        $50.00       1,000      50,000   \n",
       "2    Women's Street Footwear        $40.00       1,000      40,000   \n",
       "3  Women's Athletic Footwear        $45.00         850      38,250   \n",
       "4              Men's Apparel        $60.00         900      54,000   \n",
       "5            Women's Apparel        $50.00       1,000      50,000   \n",
       "6      Men's Street Footwear        $50.00       1,250      62,500   \n",
       "7    Men's Athletic Footwear        $50.00         900      45,000   \n",
       "8    Women's Street Footwear        $40.00         950      38,000   \n",
       "9  Women's Athletic Footwear        $45.00         825      37,125   \n",
       "\n",
       "  Operating Profit Sales Method  \n",
       "0         $30,000      In-store  \n",
       "1         $15,000      In-store  \n",
       "2         $14,000      In-store  \n",
       "3         $13,388      In-store  \n",
       "4         $16,200      In-store  \n",
       "5         $12,500      In-store  \n",
       "6         $31,250      In-store  \n",
       "7         $13,500        Outlet  \n",
       "8         $13,300        Outlet  \n",
       "9         $12,994        Outlet  "
      ]
     },
     "execution_count": 13,
     "metadata": {},
     "output_type": "execute_result"
    }
   ],
   "source": [
    "# View first 10 rows \n",
    "data.head(10)"
   ]
  },
  {
   "cell_type": "code",
   "execution_count": 14,
   "id": "d74776f4-04da-474e-ad38-48ad547332da",
   "metadata": {},
   "outputs": [
    {
     "data": {
      "text/plain": [
       "(9648, 12)"
      ]
     },
     "execution_count": 14,
     "metadata": {},
     "output_type": "execute_result"
    }
   ],
   "source": [
    "data.shape"
   ]
  },
  {
   "cell_type": "code",
   "execution_count": 15,
   "id": "bdf1483b-dc94-427e-b66e-10978891e005",
   "metadata": {},
   "outputs": [
    {
     "name": "stdout",
     "output_type": "stream",
     "text": [
      "<class 'pandas.core.frame.DataFrame'>\n",
      "RangeIndex: 9648 entries, 0 to 9647\n",
      "Data columns (total 12 columns):\n",
      " #   Column            Non-Null Count  Dtype \n",
      "---  ------            --------------  ----- \n",
      " 0   Retailer          9648 non-null   object\n",
      " 1   Retailer ID       9648 non-null   int64 \n",
      " 2   Invoice Date      9648 non-null   object\n",
      " 3   Region            9641 non-null   object\n",
      " 4   State             9648 non-null   object\n",
      " 5   City              9648 non-null   object\n",
      " 6   Product           9648 non-null   object\n",
      " 7   Price per Unit    9646 non-null   object\n",
      " 8   Units Sold        9648 non-null   object\n",
      " 9   Total Sales       9648 non-null   object\n",
      " 10  Operating Profit  9648 non-null   object\n",
      " 11  Sales Method      9648 non-null   object\n",
      "dtypes: int64(1), object(11)\n",
      "memory usage: 904.6+ KB\n"
     ]
    }
   ],
   "source": [
    "data.info()"
   ]
  },
  {
   "cell_type": "markdown",
   "id": "3e7a38a9-2bb3-4aa9-a6a1-266bc151ca34",
   "metadata": {},
   "source": [
    "#### Notes: \n",
    "- We need to convert the datatypes for Price per Unit, Units Sold, Total Sales, and Operating Profit from **object** to **int**,\n",
    "and invoice date need to convert from **object** to **datetime**.\n",
    "- we have 7 loss values in Region column, and 2 values in Product column."
   ]
  },
  {
   "cell_type": "markdown",
   "id": "9ff754f6-84be-422c-b1e6-d19f7e1f573e",
   "metadata": {},
   "source": [
    "### Data Cleaning"
   ]
  },
  {
   "cell_type": "markdown",
   "id": "59d89848-9193-4e54-809d-fc81940093fe",
   "metadata": {},
   "source": [
    "#### Changing the datatypes"
   ]
  },
  {
   "cell_type": "code",
   "execution_count": 19,
   "id": "9726e927-8b4d-4420-b452-e16511f4a9d4",
   "metadata": {},
   "outputs": [],
   "source": [
    "# Price per Unit\n",
    "data['Price per Unit'] = data['Price per Unit'].str.replace(\"$\",\"\")\n",
    "data['Price per Unit'] = data['Price per Unit'].astype('float')"
   ]
  },
  {
   "cell_type": "code",
   "execution_count": 20,
   "id": "8ec48a25-4a81-4060-8a0d-cd9a710bc03e",
   "metadata": {},
   "outputs": [],
   "source": [
    "# Unit sold \n",
    "data['Units Sold'] = data['Units Sold'].str.replace(\",\",\"\")\n",
    "data['Units Sold'] = data['Units Sold'].astype('int')"
   ]
  },
  {
   "cell_type": "code",
   "execution_count": 21,
   "id": "8c638c55-bacd-4c8f-8e9e-4767998ba810",
   "metadata": {},
   "outputs": [],
   "source": [
    "# Total Sales\n",
    "data['Total Sales'] =data['Total Sales'].str.replace(\"$\",\"\").str.replace(\",\",\"\")\n",
    "data['Total Sales'] = data['Total Sales'].astype('float')"
   ]
  },
  {
   "cell_type": "code",
   "execution_count": 22,
   "id": "ba08b7ce-6431-41df-b0c8-4b253ae2079b",
   "metadata": {},
   "outputs": [],
   "source": [
    "# Operating Profit\n",
    "data['Operating Profit'] =data['Operating Profit'].str.replace(\"$\",\"\").str.replace(\",\",\"\")\n",
    "data['Operating Profit'] = data['Operating Profit'].astype('float')"
   ]
  },
  {
   "cell_type": "code",
   "execution_count": 23,
   "id": "6175138b-24c1-46fd-9bb4-84de8e104e52",
   "metadata": {},
   "outputs": [],
   "source": [
    "# Invoice date\n",
    "data['Invoice Date'] = pd.to_datetime(data['Invoice Date'])"
   ]
  },
  {
   "cell_type": "code",
   "execution_count": 24,
   "id": "4da873ea-053e-4057-bdb3-3ef8bd13597b",
   "metadata": {
    "scrolled": true
   },
   "outputs": [
    {
     "name": "stdout",
     "output_type": "stream",
     "text": [
      "<class 'pandas.core.frame.DataFrame'>\n",
      "RangeIndex: 9648 entries, 0 to 9647\n",
      "Data columns (total 12 columns):\n",
      " #   Column            Non-Null Count  Dtype         \n",
      "---  ------            --------------  -----         \n",
      " 0   Retailer          9648 non-null   object        \n",
      " 1   Retailer ID       9648 non-null   int64         \n",
      " 2   Invoice Date      9648 non-null   datetime64[ns]\n",
      " 3   Region            9641 non-null   object        \n",
      " 4   State             9648 non-null   object        \n",
      " 5   City              9648 non-null   object        \n",
      " 6   Product           9648 non-null   object        \n",
      " 7   Price per Unit    9646 non-null   float64       \n",
      " 8   Units Sold        9648 non-null   int32         \n",
      " 9   Total Sales       9648 non-null   float64       \n",
      " 10  Operating Profit  9648 non-null   float64       \n",
      " 11  Sales Method      9648 non-null   object        \n",
      "dtypes: datetime64[ns](1), float64(3), int32(1), int64(1), object(6)\n",
      "memory usage: 866.9+ KB\n"
     ]
    }
   ],
   "source": [
    "# Check again for the datatype \n",
    "data.info()"
   ]
  },
  {
   "cell_type": "code",
   "execution_count": 25,
   "id": "0720e080-0d08-423b-a989-dd56c0451327",
   "metadata": {},
   "outputs": [],
   "source": [
    "# Extract the month and year from the invoice date to make it easier to work with than using the full date.\n",
    "data['month'] = data['Invoice Date'].dt.month\n",
    "data['year'] = data['Invoice Date'].dt.year"
   ]
  },
  {
   "cell_type": "code",
   "execution_count": 26,
   "id": "3795a42d-ed60-4bac-8f15-0db3d5432e1d",
   "metadata": {},
   "outputs": [],
   "source": [
    "# fill the missing values for the Region based on the State for another row \n",
    "data['Region'] = data.groupby('State')['Region'].transform(lambda x: x.ffill().bfill())"
   ]
  },
  {
   "cell_type": "code",
   "execution_count": 27,
   "id": "366a0b6b-e9c5-4832-85af-3530b605cc68",
   "metadata": {},
   "outputs": [],
   "source": [
    "# Fill in the missing values for Price per unit by calculating the average of all units and using that result for these 2 values.\n",
    "data['Price per Unit'] = data['Price per Unit'].fillna(value=data['Price per Unit'].mean())"
   ]
  },
  {
   "cell_type": "code",
   "execution_count": 28,
   "id": "34303b9c-d4fb-4bce-b153-0c83d5fc1d68",
   "metadata": {},
   "outputs": [
    {
     "data": {
      "text/plain": [
       "Retailer            0\n",
       "Retailer ID         0\n",
       "Invoice Date        0\n",
       "Region              0\n",
       "State               0\n",
       "City                0\n",
       "Product             0\n",
       "Price per Unit      0\n",
       "Units Sold          0\n",
       "Total Sales         0\n",
       "Operating Profit    0\n",
       "Sales Method        0\n",
       "month               0\n",
       "year                0\n",
       "dtype: int64"
      ]
     },
     "execution_count": 28,
     "metadata": {},
     "output_type": "execute_result"
    }
   ],
   "source": [
    "# Check again for the null values \n",
    "data.isnull().sum()"
   ]
  },
  {
   "cell_type": "markdown",
   "id": "b1b1d8b3-b88c-49a6-87a4-11453d3b258d",
   "metadata": {},
   "source": [
    "### Answering the questions"
   ]
  },
  {
   "cell_type": "code",
   "execution_count": 30,
   "id": "60b399ac-283d-41b4-8928-c7b512287e90",
   "metadata": {},
   "outputs": [
    {
     "data": {
      "text/plain": [
       "Region\n",
       "Midwest       7254.310897\n",
       "Northeast     7841.955808\n",
       "South         8371.736690\n",
       "Southeast    13331.001634\n",
       "West         11027.115196\n",
       "Name: Total Sales, dtype: float64"
      ]
     },
     "execution_count": 30,
     "metadata": {},
     "output_type": "execute_result"
    }
   ],
   "source": [
    "# the average invoice for each region\n",
    "data.groupby(\"Region\")['Total Sales'].mean()"
   ]
  },
  {
   "cell_type": "code",
   "execution_count": 31,
   "id": "80fafa08-6ebd-4c4d-9b1c-d956aa4fdc00",
   "metadata": {},
   "outputs": [
    {
     "data": {
      "text/plain": [
       "Product\n",
       "Men's aparel                 54000.000000\n",
       "Men's Street Footwear        12970.601863\n",
       "Women's Apparel              11134.272388\n",
       "Men's Athletic Footwear       9544.975155\n",
       "Women's Street Footwear       7960.393657\n",
       "Men's Apparel                 7675.330218\n",
       "Women's Athletic Footwear     6639.623288\n",
       "Name: Total Sales, dtype: float64"
      ]
     },
     "execution_count": 31,
     "metadata": {},
     "output_type": "execute_result"
    }
   ],
   "source": [
    "# the average invoice for each product is sorted from the high total sales to the low\n",
    "data.groupby(\"Product\")[\"Total Sales\"].mean().sort_values(ascending=False)"
   ]
  },
  {
   "cell_type": "code",
   "execution_count": 32,
   "id": "053300c3-c029-4b28-b282-906d83bd379f",
   "metadata": {},
   "outputs": [
    {
     "data": {
      "text/plain": [
       "9648"
      ]
     },
     "execution_count": 32,
     "metadata": {},
     "output_type": "execute_result"
    }
   ],
   "source": [
    "data[\"Product\"].count()"
   ]
  },
  {
   "cell_type": "code",
   "execution_count": 33,
   "id": "0ff8a57f-0f9b-49e9-a2cd-81e58736385a",
   "metadata": {},
   "outputs": [
    {
     "data": {
      "text/plain": [
       "7"
      ]
     },
     "execution_count": 33,
     "metadata": {},
     "output_type": "execute_result"
    }
   ],
   "source": [
    "data[\"Product\"].nunique()"
   ]
  },
  {
   "cell_type": "markdown",
   "id": "bfd34413-ee76-43d9-8fa2-f54c6cff2f66",
   "metadata": {},
   "source": [
    "So, this means we have only 7 unique products sold across 9,648 invoices."
   ]
  },
  {
   "cell_type": "code",
   "execution_count": 35,
   "id": "1ea053c0-6eb5-4728-aee9-c2e4493597c3",
   "metadata": {},
   "outputs": [
    {
     "data": {
      "text/plain": [
       "9327.367537313432"
      ]
     },
     "execution_count": 35,
     "metadata": {},
     "output_type": "execute_result"
    }
   ],
   "source": [
    "# The average total sales per invoice.\n",
    "data[\"Total Sales\"].mean()"
   ]
  },
  {
   "cell_type": "code",
   "execution_count": 36,
   "id": "7c60c83e-432f-4693-a23f-d42666de7842",
   "metadata": {},
   "outputs": [
    {
     "data": {
      "text/html": [
       "<div>\n",
       "<style scoped>\n",
       "    .dataframe tbody tr th:only-of-type {\n",
       "        vertical-align: middle;\n",
       "    }\n",
       "\n",
       "    .dataframe tbody tr th {\n",
       "        vertical-align: top;\n",
       "    }\n",
       "\n",
       "    .dataframe thead th {\n",
       "        text-align: right;\n",
       "    }\n",
       "</style>\n",
       "<table border=\"1\" class=\"dataframe\">\n",
       "  <thead>\n",
       "    <tr style=\"text-align: right;\">\n",
       "      <th></th>\n",
       "      <th>Region</th>\n",
       "      <th>Sales Method</th>\n",
       "      <th>Count</th>\n",
       "    </tr>\n",
       "  </thead>\n",
       "  <tbody>\n",
       "    <tr>\n",
       "      <th>1</th>\n",
       "      <td>Midwest</td>\n",
       "      <td>Online</td>\n",
       "      <td>1165</td>\n",
       "    </tr>\n",
       "    <tr>\n",
       "      <th>13</th>\n",
       "      <td>West</td>\n",
       "      <td>Online</td>\n",
       "      <td>1152</td>\n",
       "    </tr>\n",
       "    <tr>\n",
       "      <th>4</th>\n",
       "      <td>Northeast</td>\n",
       "      <td>Online</td>\n",
       "      <td>936</td>\n",
       "    </tr>\n",
       "    <tr>\n",
       "      <th>14</th>\n",
       "      <td>West</td>\n",
       "      <td>Outlet</td>\n",
       "      <td>898</td>\n",
       "    </tr>\n",
       "    <tr>\n",
       "      <th>8</th>\n",
       "      <td>South</td>\n",
       "      <td>Outlet</td>\n",
       "      <td>864</td>\n",
       "    </tr>\n",
       "    <tr>\n",
       "      <th>7</th>\n",
       "      <td>South</td>\n",
       "      <td>Online</td>\n",
       "      <td>844</td>\n",
       "    </tr>\n",
       "    <tr>\n",
       "      <th>10</th>\n",
       "      <td>Southeast</td>\n",
       "      <td>Online</td>\n",
       "      <td>792</td>\n",
       "    </tr>\n",
       "    <tr>\n",
       "      <th>5</th>\n",
       "      <td>Northeast</td>\n",
       "      <td>Outlet</td>\n",
       "      <td>757</td>\n",
       "    </tr>\n",
       "    <tr>\n",
       "      <th>3</th>\n",
       "      <td>Northeast</td>\n",
       "      <td>In-store</td>\n",
       "      <td>683</td>\n",
       "    </tr>\n",
       "    <tr>\n",
       "      <th>0</th>\n",
       "      <td>Midwest</td>\n",
       "      <td>In-store</td>\n",
       "      <td>445</td>\n",
       "    </tr>\n",
       "    <tr>\n",
       "      <th>12</th>\n",
       "      <td>West</td>\n",
       "      <td>In-store</td>\n",
       "      <td>398</td>\n",
       "    </tr>\n",
       "    <tr>\n",
       "      <th>2</th>\n",
       "      <td>Midwest</td>\n",
       "      <td>Outlet</td>\n",
       "      <td>262</td>\n",
       "    </tr>\n",
       "    <tr>\n",
       "      <th>11</th>\n",
       "      <td>Southeast</td>\n",
       "      <td>Outlet</td>\n",
       "      <td>238</td>\n",
       "    </tr>\n",
       "    <tr>\n",
       "      <th>9</th>\n",
       "      <td>Southeast</td>\n",
       "      <td>In-store</td>\n",
       "      <td>194</td>\n",
       "    </tr>\n",
       "    <tr>\n",
       "      <th>6</th>\n",
       "      <td>South</td>\n",
       "      <td>In-store</td>\n",
       "      <td>20</td>\n",
       "    </tr>\n",
       "  </tbody>\n",
       "</table>\n",
       "</div>"
      ],
      "text/plain": [
       "       Region Sales Method  Count\n",
       "1     Midwest       Online   1165\n",
       "13       West       Online   1152\n",
       "4   Northeast       Online    936\n",
       "14       West       Outlet    898\n",
       "8       South       Outlet    864\n",
       "7       South       Online    844\n",
       "10  Southeast       Online    792\n",
       "5   Northeast       Outlet    757\n",
       "3   Northeast     In-store    683\n",
       "0     Midwest     In-store    445\n",
       "12       West     In-store    398\n",
       "2     Midwest       Outlet    262\n",
       "11  Southeast       Outlet    238\n",
       "9   Southeast     In-store    194\n",
       "6       South     In-store     20"
      ]
     },
     "execution_count": 36,
     "metadata": {},
     "output_type": "execute_result"
    }
   ],
   "source": [
    "Region_Sales_method = data.groupby(['Region', 'Sales Method'])['Sales Method'].count().reset_index(name='Count')\n",
    "Region_Sales_method = Region_Sales_method.sort_values(by='Count', ascending=False)\n",
    "Region_Sales_method"
   ]
  },
  {
   "cell_type": "code",
   "execution_count": 37,
   "id": "82e33592-d717-4882-9c02-10c12c12ba81",
   "metadata": {},
   "outputs": [
    {
     "data": {
      "image/png": "[encoded data removed]",
      "text/plain": [
       "<Figure size 1000x600 with 1 Axes>"
      ]
     },
     "metadata": {},
     "output_type": "display_data"
    }
   ],
   "source": [
    "plt.figure(figsize=(10, 6))\n",
    "sns.barplot(x='Region', y='Count', hue='Sales Method', data=Region_Sales_method)\n",
    "plt.title('Sales Method Count by Region')\n",
    "plt.xlabel('Region')\n",
    "plt.ylabel('Count')\n",
    "plt.legend(title='Sales Method')\n",
    "plt.tight_layout()\n",
    "plt.show()"
   ]
  },
  {
   "cell_type": "code",
   "execution_count": 38,
   "id": "8026e38c-02c9-45e4-a677-1db789d0a781",
   "metadata": {},
   "outputs": [
    {
     "data": {
      "text/html": [
       "<div>\n",
       "<style scoped>\n",
       "    .dataframe tbody tr th:only-of-type {\n",
       "        vertical-align: middle;\n",
       "    }\n",
       "\n",
       "    .dataframe tbody tr th {\n",
       "        vertical-align: top;\n",
       "    }\n",
       "\n",
       "    .dataframe thead th {\n",
       "        text-align: right;\n",
       "    }\n",
       "</style>\n",
       "<table border=\"1\" class=\"dataframe\">\n",
       "  <thead>\n",
       "    <tr style=\"text-align: right;\">\n",
       "      <th></th>\n",
       "      <th>Region</th>\n",
       "      <th>Sales Method</th>\n",
       "      <th>Count</th>\n",
       "    </tr>\n",
       "  </thead>\n",
       "  <tbody>\n",
       "    <tr>\n",
       "      <th>1</th>\n",
       "      <td>Midwest</td>\n",
       "      <td>Online</td>\n",
       "      <td>1165</td>\n",
       "    </tr>\n",
       "    <tr>\n",
       "      <th>0</th>\n",
       "      <td>Midwest</td>\n",
       "      <td>In-store</td>\n",
       "      <td>445</td>\n",
       "    </tr>\n",
       "    <tr>\n",
       "      <th>2</th>\n",
       "      <td>Midwest</td>\n",
       "      <td>Outlet</td>\n",
       "      <td>262</td>\n",
       "    </tr>\n",
       "    <tr>\n",
       "      <th>4</th>\n",
       "      <td>Northeast</td>\n",
       "      <td>Online</td>\n",
       "      <td>936</td>\n",
       "    </tr>\n",
       "    <tr>\n",
       "      <th>5</th>\n",
       "      <td>Northeast</td>\n",
       "      <td>Outlet</td>\n",
       "      <td>757</td>\n",
       "    </tr>\n",
       "    <tr>\n",
       "      <th>3</th>\n",
       "      <td>Northeast</td>\n",
       "      <td>In-store</td>\n",
       "      <td>683</td>\n",
       "    </tr>\n",
       "    <tr>\n",
       "      <th>8</th>\n",
       "      <td>South</td>\n",
       "      <td>Outlet</td>\n",
       "      <td>864</td>\n",
       "    </tr>\n",
       "    <tr>\n",
       "      <th>7</th>\n",
       "      <td>South</td>\n",
       "      <td>Online</td>\n",
       "      <td>844</td>\n",
       "    </tr>\n",
       "    <tr>\n",
       "      <th>6</th>\n",
       "      <td>South</td>\n",
       "      <td>In-store</td>\n",
       "      <td>20</td>\n",
       "    </tr>\n",
       "    <tr>\n",
       "      <th>10</th>\n",
       "      <td>Southeast</td>\n",
       "      <td>Online</td>\n",
       "      <td>792</td>\n",
       "    </tr>\n",
       "    <tr>\n",
       "      <th>11</th>\n",
       "      <td>Southeast</td>\n",
       "      <td>Outlet</td>\n",
       "      <td>238</td>\n",
       "    </tr>\n",
       "    <tr>\n",
       "      <th>9</th>\n",
       "      <td>Southeast</td>\n",
       "      <td>In-store</td>\n",
       "      <td>194</td>\n",
       "    </tr>\n",
       "    <tr>\n",
       "      <th>13</th>\n",
       "      <td>West</td>\n",
       "      <td>Online</td>\n",
       "      <td>1152</td>\n",
       "    </tr>\n",
       "    <tr>\n",
       "      <th>14</th>\n",
       "      <td>West</td>\n",
       "      <td>Outlet</td>\n",
       "      <td>898</td>\n",
       "    </tr>\n",
       "    <tr>\n",
       "      <th>12</th>\n",
       "      <td>West</td>\n",
       "      <td>In-store</td>\n",
       "      <td>398</td>\n",
       "    </tr>\n",
       "  </tbody>\n",
       "</table>\n",
       "</div>"
      ],
      "text/plain": [
       "       Region Sales Method  Count\n",
       "1     Midwest       Online   1165\n",
       "0     Midwest     In-store    445\n",
       "2     Midwest       Outlet    262\n",
       "4   Northeast       Online    936\n",
       "5   Northeast       Outlet    757\n",
       "3   Northeast     In-store    683\n",
       "8       South       Outlet    864\n",
       "7       South       Online    844\n",
       "6       South     In-store     20\n",
       "10  Southeast       Online    792\n",
       "11  Southeast       Outlet    238\n",
       "9   Southeast     In-store    194\n",
       "13       West       Online   1152\n",
       "14       West       Outlet    898\n",
       "12       West     In-store    398"
      ]
     },
     "execution_count": 38,
     "metadata": {},
     "output_type": "execute_result"
    }
   ],
   "source": [
    "count_data = data.groupby(['Region', 'Sales Method'])['Sales Method'].count().reset_index(name='Count')\n",
    "sorted_data = count_data.sort_values(['Region', 'Count'], ascending=[True, False])\n",
    "sorted_data"
   ]
  },
  {
   "cell_type": "markdown",
   "id": "b353cf61-b7ee-4927-8341-aeb971528be6",
   "metadata": {},
   "source": [
    "The top sales method in all regions is online, except for the South, where it's outlet."
   ]
  },
  {
   "cell_type": "code",
   "execution_count": 40,
   "id": "6dbebec3-9fbe-431f-8032-dffe9fc415c0",
   "metadata": {},
   "outputs": [
    {
     "name": "stdout",
     "output_type": "stream",
     "text": [
      "Total Sales in 2020 is  18208100.0  and the total sales for 2021 is  71782342.0\n"
     ]
    }
   ],
   "source": [
    "Sales_2020 = data[data['year'] == 2020]['Total Sales'].sum()\n",
    "Sales_2021 = data[data['year'] == 2021]['Total Sales'].sum()\n",
    "print('Total Sales in 2020 is ', Sales_2020 , ' and the total sales for 2021 is ' , Sales_2021) "
   ]
  },
  {
   "cell_type": "code",
   "execution_count": 41,
   "id": "35a80914-12da-41fb-92d0-fe04807327dc",
   "metadata": {},
   "outputs": [
    {
     "data": {
      "image/png": "[encoded data removed]",
      "text/plain": [
       "<Figure size 1500x600 with 1 Axes>"
      ]
     },
     "metadata": {},
     "output_type": "display_data"
    }
   ],
   "source": [
    "daily_sales = data.groupby('Invoice Date')['Total Sales'].sum()\n",
    "plt.figure(figsize=(15, 6))\n",
    "plt.plot(daily_sales.index, daily_sales.values, marker='o', color='g', linestyle='-', linewidth=1)\n",
    "plt.title('Total Sales Over 2020 and 2021')\n",
    "plt.xlabel('Date')\n",
    "plt.ylabel('Total Sales')\n",
    "plt.grid(True)\n",
    "plt.show()"
   ]
  },
  {
   "cell_type": "markdown",
   "id": "fde432a9-870b-44b2-9200-ac0745949ca7",
   "metadata": {},
   "source": [
    "It is clear that sales have increased significantly since 2021 compared to 2020, and it is also clear that there are many events that cause sales to suddenly rise and then drop again. However, sales are generally increasing over time."
   ]
  },
  {
   "cell_type": "code",
   "execution_count": 43,
   "id": "2f6043ba-ef8a-41c5-b28f-afbc104c4644",
   "metadata": {},
   "outputs": [],
   "source": [
    "Top_retailers = data.groupby('Retailer')['Total Sales'].sum().sort_values()"
   ]
  },
  {
   "cell_type": "code",
   "execution_count": 44,
   "id": "3559bd78-d8dc-464f-aab6-60cd67ac1152",
   "metadata": {},
   "outputs": [
    {
     "data": {
      "text/plain": [
       "Retailer\n",
       "Walmart           7455850.0\n",
       "Amazon            7769912.0\n",
       "Kohl's           10211506.0\n",
       "Sports Direct    18247156.0\n",
       "Foot Locker      22009528.0\n",
       "West Gear        24296490.0\n",
       "Name: Total Sales, dtype: float64"
      ]
     },
     "execution_count": 44,
     "metadata": {},
     "output_type": "execute_result"
    }
   ],
   "source": [
    "Top_retailers"
   ]
  },
  {
   "cell_type": "code",
   "execution_count": 45,
   "id": "2b975a4f-f18f-4a30-bf1b-76f26c7ac31f",
   "metadata": {},
   "outputs": [
    {
     "data": {
      "image/png": "[encoded data removed]",
      "text/plain": [
       "<Figure size 1200x600 with 1 Axes>"
      ]
     },
     "metadata": {},
     "output_type": "display_data"
    }
   ],
   "source": [
    "plt.figure(figsize=(12, 6))\n",
    "Top_retailers.plot(kind='bar', x='Category', y='Value', title='Top Retailers' , color = 'b')\n",
    "plt.xlabel('Retailers')\n",
    "plt.ylabel('Total Sales')\n",
    "plt.show()"
   ]
  },
  {
   "cell_type": "code",
   "execution_count": 99,
   "id": "3f74440b-43dd-41a1-b979-d03c1bf9ce8e",
   "metadata": {},
   "outputs": [
    {
     "data": {
      "text/plain": [
       "Product\n",
       "Men's Street Footwear        44.612191\n",
       "Women's Apparel              44.129909\n",
       "Women's Athletic Footwear    42.422217\n",
       "Men's Apparel                41.323792\n",
       "Women's Street Footwear      41.021210\n",
       "Men's Athletic Footwear      40.268408\n",
       "Men's aparel                 30.000000\n",
       "Name: Operating Profit Margin, dtype: float64"
      ]
     },
     "execution_count": 99,
     "metadata": {},
     "output_type": "execute_result"
    }
   ],
   "source": [
    "# Calculate the margin percentage for every product \n",
    "data['Operating Profit Margin'] = (data['Operating Profit'] / data['Total Sales']) * 100\n",
    "product_profit_margin = data.groupby('Product')['Operating Profit Margin'].mean().sort_values(ascending=False)\n",
    "product_profit_margin"
   ]
  },
  {
   "cell_type": "code",
   "execution_count": 102,
   "id": "1675505a-6ea0-4d64-b17d-1ba6b0e2a902",
   "metadata": {},
   "outputs": [
    {
     "data": {
      "text/plain": [
       "Retailer\n",
       "Sports Direct    44.487502\n",
       "Kohl's           41.924145\n",
       "Amazon           41.787010\n",
       "Foot Locker      41.784171\n",
       "West Gear        41.783089\n",
       "Walmart          40.652906\n",
       "Name: Operating Profit Margin, dtype: float64"
      ]
     },
     "execution_count": 102,
     "metadata": {},
     "output_type": "execute_result"
    }
   ],
   "source": [
    "data.groupby('Retailer')['Operating Profit Margin'].mean().sort_values(ascending=False)"
   ]
  }
 ],
 "metadata": {
  "kernelspec": {
   "display_name": "Python 3 (ipykernel)",
   "language": "python",
   "name": "python3"
  },
  "language_info": {
   "codemirror_mode": {
    "name": "ipython",
    "version": 3
   },
   "file_extension": ".py",
   "mimetype": "text/x-python",
   "name": "python",
   "nbconvert_exporter": "python",
   "pygments_lexer": "ipython3",
   "version": "3.12.7"
  }
 },
 "nbformat": 4,
 "nbformat_minor": 5
}
